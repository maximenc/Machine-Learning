{
 "cells": [
  {
   "cell_type": "markdown",
   "metadata": {},
   "source": [
    "# **1. WRDS Acess**\n",
    "\n",
    "First, install the wrds Python module and any required dependencies.\n",
    "\n",
    "`pip install wrds`\n",
    "\n"
   ]
  },
  {
   "cell_type": "markdown",
   "metadata": {},
   "source": [
    "### **1.1 Initial Setup - The pgpass File**\n",
    "\n",
    "To avoid entering your WRDS username and password each time you connect, you can create a `pgpass` file that securely stores your credentials. Run the following commands to connect to WRDS and create the pgpass file:"
   ]
  },
  {
   "cell_type": "code",
   "execution_count": 2,
   "metadata": {},
   "outputs": [
    {
     "name": "stdout",
     "output_type": "stream",
     "text": [
      "WRDS recommends setting up a .pgpass file.\n",
      "Created .pgpass file successfully.\n",
      "You can create this file yourself at any time with the create_pgpass_file() function.\n",
      "Loading library list...\n",
      "Done\n"
     ]
    }
   ],
   "source": [
    "import wrds\n",
    "db = wrds.Connection(wrds_username='')\n",
    "db.create_pgpass_file()"
   ]
  },
  {
   "cell_type": "markdown",
   "metadata": {},
   "source": [
    "Replace `'your_wrds_username'` with your actual WRDS username. The first time you run the `Connection()` command, you’ll be prompted to enter your WRDS username and password. After running `create_pgpass_file()`, you won’t need to enter your credentials again.\n",
    "\n",
    "You can test the connection by closing and reconnecting. If the connection is successful, you should be able to connect without re-entering your credentials."
   ]
  },
  {
   "cell_type": "code",
   "execution_count": 3,
   "metadata": {},
   "outputs": [
    {
     "name": "stdout",
     "output_type": "stream",
     "text": [
      "Loading library list...\n",
      "Done\n"
     ]
    }
   ],
   "source": [
    "db.close()\n",
    "db = wrds.Connection(wrds_username='mnicolas')"
   ]
  },
  {
   "cell_type": "markdown",
   "metadata": {},
   "source": [
    "### **1.2 Example Query: S&P 500 Index Returns**\n",
    "\n",
    "This query retrieves the S&P 500 index returns (`sprtrn`) from WRDS' CRSP data between January 1, 1963, and January 1, 2024, and formats the date properly in the resulting DataFrame."
   ]
  },
  {
   "cell_type": "code",
   "execution_count": 4,
   "metadata": {},
   "outputs": [
    {
     "name": "stdout",
     "output_type": "stream",
     "text": [
      "              sprtrn\n",
      "caldt               \n",
      "2023-12-22  0.001660\n",
      "2023-12-26  0.004232\n",
      "2023-12-27  0.001430\n",
      "2023-12-28  0.000370\n",
      "2023-12-29 -0.002826\n"
     ]
    }
   ],
   "source": [
    "import pandas as pd\n",
    "\n",
    "# Query S&P 500 returns from CRSP\n",
    "df_sprtrn = db.raw_sql(\"\"\"\n",
    "    SELECT main.caldt, main.sprtrn\n",
    "    FROM crsp_a_indexes.dsp500 AS main\n",
    "    WHERE main.caldt >= '1963-01-01' AND main.caldt <= '2024-01-01'\n",
    "    \"\"\" )\n",
    "\n",
    "# Set the index as the date and drop the original date column\n",
    "df_sprtrn.index = pd.to_datetime(df_sprtrn.caldt, format=\"%Y-%m-%d\")\n",
    "df_sprtrn = df_sprtrn.drop(columns=[\"caldt\"])\n",
    "\n",
    "# Show the last 5 rows\n",
    "print(df_sprtrn.tail(5))"
   ]
  }
 ],
 "metadata": {
  "kernelspec": {
   "display_name": "Python 3",
   "language": "python",
   "name": "python3"
  },
  "language_info": {
   "codemirror_mode": {
    "name": "ipython",
    "version": 3
   },
   "file_extension": ".py",
   "mimetype": "text/x-python",
   "name": "python",
   "nbconvert_exporter": "python",
   "pygments_lexer": "ipython3",
   "version": "3.12.2"
  }
 },
 "nbformat": 4,
 "nbformat_minor": 2
}
