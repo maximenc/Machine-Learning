{
 "cells": [
  {
   "cell_type": "markdown",
   "metadata": {
    "id": "ROqiq5L7j8ci"
   },
   "source": [
    "# Pandas"
   ]
  },
  {
   "cell_type": "code",
   "execution_count": 2,
   "metadata": {
    "executionInfo": {
     "elapsed": 353,
     "status": "ok",
     "timestamp": 1699793283726,
     "user": {
      "displayName": "Maxime Nicolas",
      "userId": "05699040452048060896"
     },
     "user_tz": -60
    },
    "id": "03MOcSXukZLq"
   },
   "outputs": [],
   "source": [
    "import pandas as pd"
   ]
  },
  {
   "cell_type": "markdown",
   "metadata": {
    "id": "z6IR2-c2kVOa"
   },
   "source": [
    "## 1. Create dataset as a dictionary"
   ]
  },
  {
   "cell_type": "code",
   "execution_count": 3,
   "metadata": {
    "colab": {
     "base_uri": "https://localhost:8080/"
    },
    "executionInfo": {
     "elapsed": 251,
     "status": "ok",
     "timestamp": 1699793286475,
     "user": {
      "displayName": "Maxime Nicolas",
      "userId": "05699040452048060896"
     },
     "user_tz": -60
    },
    "id": "sZz-4iESj5L-",
    "outputId": "b4e5d8a5-88e1-49d6-e834-c1349e7fedf8"
   },
   "outputs": [
    {
     "name": "stdout",
     "output_type": "stream",
     "text": [
      "      Name  Math  English  Science  Age\n",
      "0    Alice    89       72       90   15\n",
      "1      Bob    78       88       82   16\n",
      "2  Charlie    67       79       87   15\n",
      "3    David    85       65       78   17\n",
      "4      Eve    92       84       88   16\n"
     ]
    }
   ],
   "source": [
    "data = {\n",
    "'Name': ['Alice', 'Bob', 'Charlie', 'David', 'Eve'],\n",
    "'Math': [89, 78, 67, 85, 92],\n",
    "'English': [72, 88, 79, 65, 84],\n",
    "'Science': [90, 82, 87, 78, 88],\n",
    "'Age': [15, 16, 15, 17, 16]\n",
    "}\n",
    "# Convert the data dictionary to a DataFrame\n",
    "df = pd.DataFrame(data)\n",
    "print(df)"
   ]
  },
  {
   "cell_type": "markdown",
   "metadata": {
    "id": "1oqO87iUkg1q"
   },
   "source": [
    "## 2. Reading Data:\n"
   ]
  },
  {
   "cell_type": "code",
   "execution_count": null,
   "metadata": {
    "id": "jyak4kmVlMcU"
   },
   "outputs": [],
   "source": [
    "# From a CSV file:\n",
    "df = pd.read_csv('...floder_name/.../file_name.csv'\n",
    "\n",
    "# From an Excel file:\n",
    "df = pd.read_excel('...floder_name/.../file_name.xlsx')"
   ]
  },
  {
   "cell_type": "markdown",
   "metadata": {
    "id": "9SBDdbzcko56"
   },
   "source": [
    "## 3. Viewing Data:"
   ]
  },
  {
   "cell_type": "code",
   "execution_count": null,
   "metadata": {
    "id": "QDjVr8Uzlv7M"
   },
   "outputs": [],
   "source": [
    "# First 10 rows:\n",
    "print(df.head(10))\n",
    "\n",
    "# Last 10 rows:\n",
    "print(df.tail(10))"
   ]
  },
  {
   "cell_type": "markdown",
   "metadata": {
    "id": "6mi-Rnykl5T9"
   },
   "source": [
    "## 4. Basic Data Information"
   ]
  },
  {
   "cell_type": "code",
   "execution_count": null,
   "metadata": {
    "id": "3HRkOkW2l77s"
   },
   "outputs": [],
   "source": [
    "# Data types, non-null values, and memory usage:\n",
    "df.info()\n",
    "\n",
    "# Summary statistics:\n",
    "df.describe()\n",
    "\n",
    "# Unique values in column_name:\n",
    "df['column_name'].value_counts()\n",
    "df['column_name'].unique()"
   ]
  },
  {
   "cell_type": "markdown",
   "metadata": {
    "id": "Q5td90RHmDjD"
   },
   "source": [
    "## 5. Selecting Data"
   ]
  },
  {
   "cell_type": "code",
   "execution_count": null,
   "metadata": {
    "id": "QwAaEUAbkcC6"
   },
   "outputs": [],
   "source": [
    "# Selecting a single column:\n",
    "col = df['column_name']\n",
    "\n",
    "# Selecting multiple columns:\n",
    "cols = df[['col_name1', 'col_name2']]\n",
    "\n",
    "# Selecting rows by condition:\n",
    "filtered = df[df['column_name'] > value]\n",
    "\n",
    "# Using \"&\" for multiple \"and\" conditions in Pandas:\n",
    "df[(df['col_name1'] >= 9) & (df['col_name2'] == 11)]\n",
    "\n",
    "# Using \"|\" for multiple \"or\" conditions in Pandas:\n",
    "df[(df['col_name1'] >= 9) | (df['col_name2'] == 3)]"
   ]
  },
  {
   "cell_type": "markdown",
   "metadata": {
    "id": "bAQU4Mq-mQrr"
   },
   "source": [
    "## 6. Modifying Data"
   ]
  },
  {
   "cell_type": "code",
   "execution_count": null,
   "metadata": {
    "id": "gpDy5KyomU3U"
   },
   "outputs": [],
   "source": [
    "# Adding a new column:\n",
    "df['new_col'] = df['col1'] + df['col2']\n",
    "\n",
    "# Dropping a column:\n",
    "df.drop('column_name', axis=1, inplace=True)"
   ]
  },
  {
   "cell_type": "markdown",
   "metadata": {
    "id": "avs8uarSmbU8"
   },
   "source": [
    "## 7. Handling Missing Data:"
   ]
  },
  {
   "cell_type": "code",
   "execution_count": null,
   "metadata": {
    "id": "MHr9BzElmboE"
   },
   "outputs": [],
   "source": [
    "# Dropping rows with missing values:\n",
    "df.dropna(inplace=True)\n",
    "\n",
    "# Drop all lines/index with missing values\n",
    "df.dropna(axis=1)\n",
    "\n",
    "# Drop all columns with missing values\n",
    "df.dropna(axis=1)\n",
    "\n",
    "# Filling missing values:\n",
    "df['column_name'].fillna(value, inplace=True)\n",
    "\n",
    "# Example, Replace all missing values with 0\n",
    "df.fillna(0)\n",
    "\n",
    "# Fill NaNs in column 'col_name1' with its mean:\n",
    "df['col_name1'].fillna(df['col_name1'].mean())"
   ]
  },
  {
   "cell_type": "markdown",
   "metadata": {
    "id": "Wy3Kh_3Cmus8"
   },
   "source": [
    "## 8. Saving Data:"
   ]
  },
  {
   "cell_type": "code",
   "execution_count": null,
   "metadata": {
    "id": "VQq2fLoVmqgk"
   },
   "outputs": [],
   "source": [
    "# To CSV:\n",
    "df.to_csv('output.csv', index=False)\n",
    "\n",
    "# To Excel:\n",
    "df.to_excel('output.xlsx', index=False)"
   ]
  }
 ],
 "metadata": {
  "colab": {
   "authorship_tag": "ABX9TyOJQd3+YfhkRmF9MUiYeyHU",
   "provenance": []
  },
  "kernelspec": {
   "display_name": "Python 3 (ipykernel)",
   "language": "python",
   "name": "python3"
  },
  "language_info": {
   "codemirror_mode": {
    "name": "ipython",
    "version": 3
   },
   "file_extension": ".py",
   "mimetype": "text/x-python",
   "name": "python",
   "nbconvert_exporter": "python",
   "pygments_lexer": "ipython3",
   "version": "3.12.4"
  }
 },
 "nbformat": 4,
 "nbformat_minor": 4
}
