{
 "cells": [
  {
   "cell_type": "markdown",
   "metadata": {},
   "source": [
    "# **1. Python Basics**\n",
    "\n",
    "#### **1.1 Variables**\n"
   ]
  },
  {
   "cell_type": "markdown",
   "metadata": {},
   "source": [
    "**This is a Boolean**"
   ]
  },
  {
   "cell_type": "code",
   "execution_count": 6,
   "metadata": {},
   "outputs": [],
   "source": [
    "is_student = False"
   ]
  },
  {
   "cell_type": "markdown",
   "metadata": {},
   "source": [
    "**This is a list**"
   ]
  },
  {
   "cell_type": "code",
   "execution_count": 7,
   "metadata": {},
   "outputs": [
    {
     "name": "stdout",
     "output_type": "stream",
     "text": [
      "salary\n"
     ]
    }
   ],
   "source": [
    "features = ['age', 'salary', 'education']\n",
    "print(features[-2])"
   ]
  },
  {
   "cell_type": "markdown",
   "metadata": {},
   "source": [
    "**This is a Tuple**"
   ]
  },
  {
   "cell_type": "code",
   "execution_count": 8,
   "metadata": {},
   "outputs": [
    {
     "data": {
      "text/plain": [
       "10.5"
      ]
     },
     "execution_count": 8,
     "metadata": {},
     "output_type": "execute_result"
    }
   ],
   "source": [
    "coordinates = (10.5, 42.3)\n",
    "coordinates[0] "
   ]
  },
  {
   "cell_type": "code",
   "execution_count": 9,
   "metadata": {},
   "outputs": [
    {
     "ename": "TypeError",
     "evalue": "'tuple' object does not support item assignment",
     "output_type": "error",
     "traceback": [
      "\u001b[0;31m---------------------------------------------------------------------------\u001b[0m",
      "\u001b[0;31mTypeError\u001b[0m                                 Traceback (most recent call last)",
      "Cell \u001b[0;32mIn[9], line 1\u001b[0m\n\u001b[0;32m----> 1\u001b[0m \u001b[43mcoordinates\u001b[49m\u001b[43m[\u001b[49m\u001b[38;5;241;43m0\u001b[39;49m\u001b[43m]\u001b[49m \u001b[38;5;241m=\u001b[39m \u001b[38;5;241m10\u001b[39m\n",
      "\u001b[0;31mTypeError\u001b[0m: 'tuple' object does not support item assignment"
     ]
    }
   ],
   "source": [
    "coordinates[0] = 10"
   ]
  },
  {
   "cell_type": "code",
   "execution_count": null,
   "metadata": {},
   "outputs": [],
   "source": [
    "features[0] = 'size'\n",
    "print(features)"
   ]
  },
  {
   "cell_type": "markdown",
   "metadata": {},
   "source": [
    "**This is a dictionary**"
   ]
  },
  {
   "cell_type": "code",
   "execution_count": null,
   "metadata": {},
   "outputs": [
    {
     "name": "stdout",
     "output_type": "stream",
     "text": [
      "dict_keys(['age', 'salary', 'education'])\n",
      "dict_values([26, 100000.4, 'Msc'])\n"
     ]
    }
   ],
   "source": [
    "person_informations = {'age':26,\n",
    "                       'salary':100000.4,\n",
    "                       'education':'Msc'}\n",
    "\n",
    "print(person_informations.keys())\n",
    "print(person_informations.values())"
   ]
  },
  {
   "cell_type": "code",
   "execution_count": null,
   "metadata": {},
   "outputs": [
    {
     "data": {
      "text/plain": [
       "100000.4"
      ]
     },
     "execution_count": 5,
     "metadata": {},
     "output_type": "execute_result"
    }
   ],
   "source": [
    "person_informations['salary']"
   ]
  },
  {
   "cell_type": "markdown",
   "metadata": {},
   "source": [
    "#### **1.2 printing**\n",
    "\n",
    "The `print()` function is the simplest way to output information. For examplem to displays the text on the screen"
   ]
  },
  {
   "cell_type": "code",
   "execution_count": null,
   "metadata": {},
   "outputs": [
    {
     "name": "stdout",
     "output_type": "stream",
     "text": [
      "Hello, World!\n"
     ]
    }
   ],
   "source": [
    "print(\"Hello, World!\")"
   ]
  },
  {
   "cell_type": "markdown",
   "metadata": {},
   "source": [
    "It can also be used with variables, like:"
   ]
  },
  {
   "cell_type": "code",
   "execution_count": null,
   "metadata": {},
   "outputs": [
    {
     "name": "stdout",
     "output_type": "stream",
     "text": [
      "My name is: Alice\n"
     ]
    }
   ],
   "source": [
    "name = \"Alice\"\n",
    "print(\"My name is:\", name)"
   ]
  },
  {
   "cell_type": "code",
   "execution_count": null,
   "metadata": {},
   "outputs": [
    {
     "name": "stdout",
     "output_type": "stream",
     "text": [
      "<class 'str'>\n"
     ]
    }
   ],
   "source": [
    "print(type(name))"
   ]
  },
  {
   "cell_type": "markdown",
   "metadata": {},
   "source": [
    "**Types of variables**"
   ]
  },
  {
   "cell_type": "code",
   "execution_count": null,
   "metadata": {},
   "outputs": [
    {
     "name": "stdout",
     "output_type": "stream",
     "text": [
      "<class 'int'>\n",
      "<class 'float'>\n",
      "<class 'bool'>\n",
      "<class 'list'>\n"
     ]
    }
   ],
   "source": [
    "my_variable = 1\n",
    "print(type(my_variable))\n",
    "\n",
    "my_variable = 1.0\n",
    "print(type(my_variable))\n",
    "\n",
    "my_variable = True\n",
    "print(type(my_variable))\n",
    "\n",
    "my_variable = [1]\n",
    "print(type(my_variable))"
   ]
  },
  {
   "cell_type": "markdown",
   "metadata": {},
   "source": [
    "#### **1.3 Comments**\n",
    "\n",
    "**Single-line comments**: These are created using the `#` symbol."
   ]
  },
  {
   "cell_type": "code",
   "execution_count": null,
   "metadata": {},
   "outputs": [
    {
     "name": "stdout",
     "output_type": "stream",
     "text": [
      "Hello, World!\n"
     ]
    }
   ],
   "source": [
    "# This is a single-line comment\n",
    "print(\"Hello, World!\")  # This prints a message"
   ]
  },
  {
   "cell_type": "markdown",
   "metadata": {},
   "source": [
    "**Multi-line comments or docstrings**: using triple quotes `\"\"\" \"\"\"`"
   ]
  },
  {
   "cell_type": "code",
   "execution_count": null,
   "metadata": {},
   "outputs": [
    {
     "name": "stdout",
     "output_type": "stream",
     "text": [
      "Hello, World!\n"
     ]
    }
   ],
   "source": [
    "\"\"\"\n",
    "This is a multi-line comment or docstring.\n",
    "It can be used to explain complex parts of the code or functions.\n",
    "\"\"\"\n",
    "\n",
    "print(\"Hello, World!\") "
   ]
  },
  {
   "cell_type": "markdown",
   "metadata": {},
   "source": [
    "#### **1.4 Operators**\n",
    "\n",
    "- Greater than (`>`): This checks if one value is greater than another."
   ]
  },
  {
   "cell_type": "code",
   "execution_count": null,
   "metadata": {},
   "outputs": [
    {
     "name": "stdout",
     "output_type": "stream",
     "text": [
      "False\n"
     ]
    }
   ],
   "source": [
    "# Example of greater than\n",
    "x = 5\n",
    "y = 10\n",
    "result = x > y\n",
    "print(result)"
   ]
  },
  {
   "cell_type": "markdown",
   "metadata": {},
   "source": [
    "- Equal to (`==`): This checks if two values are equal."
   ]
  },
  {
   "cell_type": "code",
   "execution_count": null,
   "metadata": {},
   "outputs": [
    {
     "name": "stdout",
     "output_type": "stream",
     "text": [
      "True\n"
     ]
    }
   ],
   "source": [
    "# Example of equal to\n",
    "a = 5\n",
    "b = 5\n",
    "result = a == b\n",
    "print(result)"
   ]
  },
  {
   "cell_type": "markdown",
   "metadata": {},
   "source": [
    "- Not equal to (`!=`): This checks if two values are not equal."
   ]
  },
  {
   "cell_type": "code",
   "execution_count": null,
   "metadata": {},
   "outputs": [
    {
     "name": "stdout",
     "output_type": "stream",
     "text": [
      "True\n"
     ]
    }
   ],
   "source": [
    "# Example of not equal to\n",
    "a = 5\n",
    "b = 10\n",
    "result = a != b\n",
    "print(result)"
   ]
  },
  {
   "cell_type": "markdown",
   "metadata": {},
   "source": [
    "Here’s a Markdown table describing common Python operators:\n",
    "\n",
    "| Operator | Description                                                | Example                    | Output  |\n",
    "|----------|------------------------------------------------------------|----------------------------|---------|\n",
    "| `+`      | Addition                                                   | `x = 5 + 3`                | `8`     |\n",
    "| `-`      | Subtraction                                                | `x = 10 - 4`               | `6`     |\n",
    "| `*`      | Multiplication                                             | `x = 6 * 2`                | `12`    |\n",
    "| `/`      | Division                                                   | `x = 15 / 3`               | `5.0`   |\n",
    "| `%`      | Modulus: Returns the remainder of the division             | `x = 10 % 3`               | `1`     |\n",
    "| `**`     | Raises the first value to the power of the second           | `x = 2 ** 3`               | `8`     |\n",
    "| `//`     | Floor Division: Divides and returns the integer part of the result | `x = 7 // 2`             | `3`     |\n",
    "| `>`      | Greater than                                               | `x = 10 > 5`               | `True`  |\n",
    "| `<`      | Less than                                                  | `x = 3 < 7`                | `True`  |\n",
    "| `==`     | Equal to                                                   | `x = 4 == 4`               | `True`  |\n",
    "| `!=`     | Not equal to                                               | `x = 3 != 5`               | `True`  |\n",
    "| `>=`     | Greater than or equal                                      | `x = 6 >= 6`               | `True`  |\n",
    "| `<=`     | Less than or equal                                         | `x = 4 <= 5`               | `True`  |\n"
   ]
  },
  {
   "cell_type": "markdown",
   "metadata": {},
   "source": [
    "#### **1.4 Conditions**\n",
    "\n",
    "Using `if`, `elif`, and `else` to define different outcomes based on conditions"
   ]
  },
  {
   "cell_type": "code",
   "execution_count": null,
   "metadata": {},
   "outputs": [
    {
     "name": "stdout",
     "output_type": "stream",
     "text": [
      "The income category is: Middle income\n"
     ]
    }
   ],
   "source": [
    "income = 45000\n",
    "if income < 20000:\n",
    "    category = \"Low income\"\n",
    "elif income < 70000:\n",
    "    category = \"Middle income\"\n",
    "else:\n",
    "    category = \"High income\"\n",
    "print(f\"The income category is: {category}\")"
   ]
  },
  {
   "cell_type": "markdown",
   "metadata": {},
   "source": [
    "#### **1.5 Loops**\n",
    "\n",
    "\n",
    "**For Loops**: These are used to iterate over sequences (like lists or ranges). For example:"
   ]
  },
  {
   "cell_type": "code",
   "execution_count": null,
   "metadata": {},
   "outputs": [
    {
     "name": "stdout",
     "output_type": "stream",
     "text": [
      "AAPL\n",
      "GOOGL\n",
      "TSLA\n"
     ]
    }
   ],
   "source": [
    "stocks = [\"AAPL\", \"GOOGL\", \"TSLA\"]\n",
    "\n",
    "for stock in stocks:\n",
    "    print(stock)"
   ]
  },
  {
   "cell_type": "code",
   "execution_count": null,
   "metadata": {},
   "outputs": [
    {
     "name": "stdout",
     "output_type": "stream",
     "text": [
      "0\n",
      "1\n",
      "2\n",
      "3\n",
      "4\n"
     ]
    }
   ],
   "source": [
    "for i in range(5):\n",
    "    print(i)"
   ]
  },
  {
   "cell_type": "markdown",
   "metadata": {},
   "source": [
    "**While Loops**: These repeat a block of code as long as a condition is true:"
   ]
  },
  {
   "cell_type": "code",
   "execution_count": null,
   "metadata": {},
   "outputs": [
    {
     "name": "stdout",
     "output_type": "stream",
     "text": [
      "0\n",
      "1\n",
      "2\n",
      "3\n",
      "4\n"
     ]
    }
   ],
   "source": [
    "count = 0\n",
    "while count < 5:\n",
    "    print(count)\n",
    "    count += 1"
   ]
  },
  {
   "cell_type": "code",
   "execution_count": null,
   "metadata": {},
   "outputs": [
    {
     "name": "stdout",
     "output_type": "stream",
     "text": [
      "Day 1: Stock price is $102.00\n",
      "Day 2: Stock price is $104.04\n",
      "Day 3: Stock price is $106.12\n",
      "Day 4: Stock price is $108.24\n",
      "Day 5: Stock price is $110.41\n"
     ]
    }
   ],
   "source": [
    "price = 100\n",
    "growth_rate = 0.02  # 2% daily growth\n",
    "\n",
    "for day in range(1, 6):\n",
    "    price += price * growth_rate\n",
    "    print(f\"Day {day}: Stock price is ${price:.2f}\")\n"
   ]
  },
  {
   "cell_type": "code",
   "execution_count": null,
   "metadata": {},
   "outputs": [
    {
     "name": "stdout",
     "output_type": "stream",
     "text": [
      "It will take 14 days to reach the target: $150\n"
     ]
    }
   ],
   "source": [
    "current_price = 100\n",
    "target_price = 150\n",
    "daily_growth = 0.03  # 3% daily growth\n",
    "\n",
    "days = 0\n",
    "while current_price < target_price:\n",
    "    current_price += current_price * daily_growth\n",
    "    days += 1\n",
    "print(f\"It will take {days} days to reach the target: ${target_price}\")"
   ]
  },
  {
   "cell_type": "markdown",
   "metadata": {},
   "source": [
    "#### **1.6 Functions**\n",
    "\n",
    "Here’s a basic example of defining and calling a function in Python that calculates the sum of a list of numbers:"
   ]
  },
  {
   "cell_type": "code",
   "execution_count": null,
   "metadata": {},
   "outputs": [
    {
     "name": "stdout",
     "output_type": "stream",
     "text": [
      "Total sum: 150\n",
      "Total sum: 115\n"
     ]
    }
   ],
   "source": [
    "def calculate_sum(data):\n",
    "    \"\"\"This function prints the sum of all numbers in the dataset.\"\"\"\n",
    "    tot_sum = sum(data)\n",
    "    print(f\"Total sum: {tot_sum}\")\n",
    "\n",
    "# Call the function with a list of numbers\n",
    "data = [10, 20, 30, 40, 50]\n",
    "calculate_sum(data)\n",
    "\n",
    "# Call the function a second time with a new list of numbers\n",
    "data = [15, 32, 22, 4, 42]\n",
    "calculate_sum(data)"
   ]
  },
  {
   "cell_type": "markdown",
   "metadata": {},
   "source": [
    "In this example:\n",
    "\n",
    "- `calculate_sum` is the function name.\n",
    "- `data` is the parameter, representing the dataset.\n",
    "- The function calculates the sum of all numbers in the list using Python’s built-in `sum()` function and prints the result.\n",
    "- The docstring (`\"\"\" \"\"\"`) is used to document what the function does."
   ]
  },
  {
   "cell_type": "markdown",
   "metadata": {},
   "source": [
    "**Optional Parameters and Default Values:**"
   ]
  },
  {
   "cell_type": "code",
   "execution_count": null,
   "metadata": {},
   "outputs": [
    {
     "name": "stdout",
     "output_type": "stream",
     "text": [
      "450\n",
      "405.0\n"
     ]
    }
   ],
   "source": [
    "# Define a function with a default parameter for discount\n",
    "def calculate_total(sales, discount=0):\n",
    "    \"\"\"Returns the total sales after applying an optional discount.\"\"\"\n",
    "    total = sum(sales)\n",
    "    return total - (total * discount)\n",
    "\n",
    "# Example sales data\n",
    "sales_data = [100, 200, 150]\n",
    "\n",
    "# Call the function without a discount\n",
    "print(calculate_total(sales_data))\n",
    "\n",
    "# Call the function with a 10% discount\n",
    "print(calculate_total(sales_data, 0.1))"
   ]
  }
 ],
 "metadata": {
  "kernelspec": {
   "display_name": "Python 3",
   "language": "python",
   "name": "python3"
  },
  "language_info": {
   "codemirror_mode": {
    "name": "ipython",
    "version": 3
   },
   "file_extension": ".py",
   "mimetype": "text/x-python",
   "name": "python",
   "nbconvert_exporter": "python",
   "pygments_lexer": "ipython3",
   "version": "3.12.2"
  }
 },
 "nbformat": 4,
 "nbformat_minor": 2
}
